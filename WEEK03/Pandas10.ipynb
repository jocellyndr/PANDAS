{
 "cells": [
  {
   "cell_type": "markdown",
   "metadata": {
    "id": "1KucGnJQq6WE"
   },
   "source": [
    "# **Pandas 10 - Mengganti Nama Kolom pada Data Frame Berdasarkan Pola**"
   ]
  },
  {
   "cell_type": "markdown",
   "metadata": {
    "id": "mvMF3lrlrIQr"
   },
   "source": [
    "# Import Modules"
   ]
  },
  {
   "cell_type": "code",
   "execution_count": 7,
   "metadata": {
    "colab": {
     "base_uri": "https://localhost:8080/"
    },
    "id": "EuYdKMtIrM4y",
    "outputId": "758d7441-79a3-4ebe-8f02-9b77ddbd2ebe"
   },
   "outputs": [
    {
     "name": "stdout",
     "output_type": "stream",
     "text": [
      "2.1.1\n"
     ]
    }
   ],
   "source": [
    "import pandas as pd\n",
    "\n",
    "print(pd.__version__)"
   ]
  },
  {
   "cell_type": "markdown",
   "metadata": {
    "id": "xlLc-ww0rK_l"
   },
   "source": [
    "# Persiapan Data Frame"
   ]
  },
  {
   "cell_type": "markdown",
   "metadata": {
    "id": "B67vrZ0brTyK"
   },
   "source": [
    "- Kali ini kita memuat csv titanicfull kedalam data frame 'df'.\n",
    "- Nama kolom ini disesuaikan agar cocok dengan materi yang ingin disampaikan pada trik ini.\n",
    "- Fungsi head() berguna untuk menampilkan 5 baris awal saja."
   ]
  },
  {
   "cell_type": "code",
   "execution_count": 8,
   "metadata": {
    "id": "sntsgXOwrSE0"
   },
   "outputs": [
    {
     "data": {
      "text/html": [
       "<div>\n",
       "<style scoped>\n",
       "    .dataframe tbody tr th:only-of-type {\n",
       "        vertical-align: middle;\n",
       "    }\n",
       "\n",
       "    .dataframe tbody tr th {\n",
       "        vertical-align: top;\n",
       "    }\n",
       "\n",
       "    .dataframe thead th {\n",
       "        text-align: right;\n",
       "    }\n",
       "</style>\n",
       "<table border=\"1\" class=\"dataframe\">\n",
       "  <thead>\n",
       "    <tr style=\"text-align: right;\">\n",
       "      <th></th>\n",
       "      <th>Pclass</th>\n",
       "      <th>Survival status</th>\n",
       "      <th>Full Name</th>\n",
       "      <th>Sex</th>\n",
       "      <th>Age</th>\n",
       "      <th>Siblings/Spouses Aboard</th>\n",
       "      <th>Parents/Children Aboard</th>\n",
       "      <th>Ticket</th>\n",
       "      <th>Fare</th>\n",
       "      <th>Cabin</th>\n",
       "      <th>Embarked</th>\n",
       "    </tr>\n",
       "  </thead>\n",
       "  <tbody>\n",
       "    <tr>\n",
       "      <th>0</th>\n",
       "      <td>1</td>\n",
       "      <td>1</td>\n",
       "      <td>Allen, Miss. Elisabeth Walton</td>\n",
       "      <td>female</td>\n",
       "      <td>29.00</td>\n",
       "      <td>0</td>\n",
       "      <td>0</td>\n",
       "      <td>24160</td>\n",
       "      <td>211.3375</td>\n",
       "      <td>B5</td>\n",
       "      <td>S</td>\n",
       "    </tr>\n",
       "    <tr>\n",
       "      <th>1</th>\n",
       "      <td>1</td>\n",
       "      <td>1</td>\n",
       "      <td>Allison, Master. Hudson Trevor</td>\n",
       "      <td>male</td>\n",
       "      <td>0.92</td>\n",
       "      <td>1</td>\n",
       "      <td>2</td>\n",
       "      <td>113781</td>\n",
       "      <td>151.5500</td>\n",
       "      <td>C22 C26</td>\n",
       "      <td>S</td>\n",
       "    </tr>\n",
       "    <tr>\n",
       "      <th>2</th>\n",
       "      <td>1</td>\n",
       "      <td>0</td>\n",
       "      <td>Allison, Miss. Helen Loraine</td>\n",
       "      <td>female</td>\n",
       "      <td>2.00</td>\n",
       "      <td>1</td>\n",
       "      <td>2</td>\n",
       "      <td>113781</td>\n",
       "      <td>151.5500</td>\n",
       "      <td>C22 C26</td>\n",
       "      <td>S</td>\n",
       "    </tr>\n",
       "    <tr>\n",
       "      <th>3</th>\n",
       "      <td>1</td>\n",
       "      <td>0</td>\n",
       "      <td>Allison, Mr. Hudson Joshua Creighton</td>\n",
       "      <td>male</td>\n",
       "      <td>30.00</td>\n",
       "      <td>1</td>\n",
       "      <td>2</td>\n",
       "      <td>113781</td>\n",
       "      <td>151.5500</td>\n",
       "      <td>C22 C26</td>\n",
       "      <td>S</td>\n",
       "    </tr>\n",
       "    <tr>\n",
       "      <th>4</th>\n",
       "      <td>1</td>\n",
       "      <td>0</td>\n",
       "      <td>Allison, Mrs. Hudson J C (Bessie Waldo Daniels)</td>\n",
       "      <td>female</td>\n",
       "      <td>25.00</td>\n",
       "      <td>1</td>\n",
       "      <td>2</td>\n",
       "      <td>113781</td>\n",
       "      <td>151.5500</td>\n",
       "      <td>C22 C26</td>\n",
       "      <td>S</td>\n",
       "    </tr>\n",
       "  </tbody>\n",
       "</table>\n",
       "</div>"
      ],
      "text/plain": [
       "   Pclass  Survival status                                        Full Name  \\\n",
       "0       1                1                    Allen, Miss. Elisabeth Walton   \n",
       "1       1                1                   Allison, Master. Hudson Trevor   \n",
       "2       1                0                     Allison, Miss. Helen Loraine   \n",
       "3       1                0             Allison, Mr. Hudson Joshua Creighton   \n",
       "4       1                0  Allison, Mrs. Hudson J C (Bessie Waldo Daniels)   \n",
       "\n",
       "      Sex    Age  Siblings/Spouses Aboard  Parents/Children Aboard  Ticket  \\\n",
       "0  female  29.00                        0                        0   24160   \n",
       "1    male   0.92                        1                        2  113781   \n",
       "2  female   2.00                        1                        2  113781   \n",
       "3    male  30.00                        1                        2  113781   \n",
       "4  female  25.00                        1                        2  113781   \n",
       "\n",
       "       Fare    Cabin Embarked  \n",
       "0  211.3375       B5        S  \n",
       "1  151.5500  C22 C26        S  \n",
       "2  151.5500  C22 C26        S  \n",
       "3  151.5500  C22 C26        S  \n",
       "4  151.5500  C22 C26        S  "
      ]
     },
     "execution_count": 8,
     "metadata": {},
     "output_type": "execute_result"
    }
   ],
   "source": [
    "# Menggunakan metode read_csv dari pandas untuk membaca file CSV (Comma-Separated Values) \n",
    "# dan menyimpannya dalam data frame df. Kemudian, melakukan salinan mendalam (deep copy) dari df dan menyimpannya dalam df_backup.\n",
    "# Kolom-kolom dalam data frame diubah menjadi versi yang lebih bersih dan mudah dibaca.\n",
    "df = pd.read_csv('./data/titanicfull.csv')\n",
    "df.columns = ['Pclass', 'Survival status', 'Full Name', 'Sex', 'Age', \n",
    "              'Siblings/Spouses Aboard', 'Parents/Children Aboard', 'Ticket', 'Fare', 'Cabin', 'Embarked']\n",
    "df_backup = df.copy(deep=True)\n",
    "\n",
    "# Menampilkan lima data awal dari data frame\n",
    "df.head()"
   ]
  },
  {
   "cell_type": "markdown",
   "metadata": {
    "id": "i4svyzYErZnE"
   },
   "source": [
    "\n",
    "# Menggunakan Lowercase untuk Nama Kolom dan Mengganti Spasi dengan _"
   ]
  },
  {
   "cell_type": "markdown",
   "metadata": {
    "id": "8IklxRHYrZs-"
   },
   "source": [
    "- Fungsi str.replace() berguna untuk menggantikan suatu string menjadi string lainnya.\n",
    "- Fungsi str.lower() berguna untuk mengubah semua string menjadi lower case.\n",
    "- Pada kasus kali ini kita mendapat sebuah masalah pada kolom sex dan age."
   ]
  },
  {
   "cell_type": "code",
   "execution_count": 9,
   "metadata": {
    "id": "mI32g1vLrmri"
   },
   "outputs": [
    {
     "data": {
      "text/html": [
       "<div>\n",
       "<style scoped>\n",
       "    .dataframe tbody tr th:only-of-type {\n",
       "        vertical-align: middle;\n",
       "    }\n",
       "\n",
       "    .dataframe tbody tr th {\n",
       "        vertical-align: top;\n",
       "    }\n",
       "\n",
       "    .dataframe thead th {\n",
       "        text-align: right;\n",
       "    }\n",
       "</style>\n",
       "<table border=\"1\" class=\"dataframe\">\n",
       "  <thead>\n",
       "    <tr style=\"text-align: right;\">\n",
       "      <th></th>\n",
       "      <th>pclass</th>\n",
       "      <th>survival_status</th>\n",
       "      <th>full_name</th>\n",
       "      <th>sex</th>\n",
       "      <th>age</th>\n",
       "      <th>siblings/spouses_aboard</th>\n",
       "      <th>parents/children_aboard</th>\n",
       "      <th>ticket</th>\n",
       "      <th>fare</th>\n",
       "      <th>cabin</th>\n",
       "      <th>embarked</th>\n",
       "    </tr>\n",
       "  </thead>\n",
       "  <tbody>\n",
       "    <tr>\n",
       "      <th>0</th>\n",
       "      <td>1</td>\n",
       "      <td>1</td>\n",
       "      <td>Allen, Miss. Elisabeth Walton</td>\n",
       "      <td>female</td>\n",
       "      <td>29.00</td>\n",
       "      <td>0</td>\n",
       "      <td>0</td>\n",
       "      <td>24160</td>\n",
       "      <td>211.3375</td>\n",
       "      <td>B5</td>\n",
       "      <td>S</td>\n",
       "    </tr>\n",
       "    <tr>\n",
       "      <th>1</th>\n",
       "      <td>1</td>\n",
       "      <td>1</td>\n",
       "      <td>Allison, Master. Hudson Trevor</td>\n",
       "      <td>male</td>\n",
       "      <td>0.92</td>\n",
       "      <td>1</td>\n",
       "      <td>2</td>\n",
       "      <td>113781</td>\n",
       "      <td>151.5500</td>\n",
       "      <td>C22 C26</td>\n",
       "      <td>S</td>\n",
       "    </tr>\n",
       "    <tr>\n",
       "      <th>2</th>\n",
       "      <td>1</td>\n",
       "      <td>0</td>\n",
       "      <td>Allison, Miss. Helen Loraine</td>\n",
       "      <td>female</td>\n",
       "      <td>2.00</td>\n",
       "      <td>1</td>\n",
       "      <td>2</td>\n",
       "      <td>113781</td>\n",
       "      <td>151.5500</td>\n",
       "      <td>C22 C26</td>\n",
       "      <td>S</td>\n",
       "    </tr>\n",
       "    <tr>\n",
       "      <th>3</th>\n",
       "      <td>1</td>\n",
       "      <td>0</td>\n",
       "      <td>Allison, Mr. Hudson Joshua Creighton</td>\n",
       "      <td>male</td>\n",
       "      <td>30.00</td>\n",
       "      <td>1</td>\n",
       "      <td>2</td>\n",
       "      <td>113781</td>\n",
       "      <td>151.5500</td>\n",
       "      <td>C22 C26</td>\n",
       "      <td>S</td>\n",
       "    </tr>\n",
       "    <tr>\n",
       "      <th>4</th>\n",
       "      <td>1</td>\n",
       "      <td>0</td>\n",
       "      <td>Allison, Mrs. Hudson J C (Bessie Waldo Daniels)</td>\n",
       "      <td>female</td>\n",
       "      <td>25.00</td>\n",
       "      <td>1</td>\n",
       "      <td>2</td>\n",
       "      <td>113781</td>\n",
       "      <td>151.5500</td>\n",
       "      <td>C22 C26</td>\n",
       "      <td>S</td>\n",
       "    </tr>\n",
       "  </tbody>\n",
       "</table>\n",
       "</div>"
      ],
      "text/plain": [
       "   pclass  survival_status                                        full_name  \\\n",
       "0       1                1                    Allen, Miss. Elisabeth Walton   \n",
       "1       1                1                   Allison, Master. Hudson Trevor   \n",
       "2       1                0                     Allison, Miss. Helen Loraine   \n",
       "3       1                0             Allison, Mr. Hudson Joshua Creighton   \n",
       "4       1                0  Allison, Mrs. Hudson J C (Bessie Waldo Daniels)   \n",
       "\n",
       "      sex    age  siblings/spouses_aboard  parents/children_aboard  ticket  \\\n",
       "0  female  29.00                        0                        0   24160   \n",
       "1    male   0.92                        1                        2  113781   \n",
       "2  female   2.00                        1                        2  113781   \n",
       "3    male  30.00                        1                        2  113781   \n",
       "4  female  25.00                        1                        2  113781   \n",
       "\n",
       "       fare    cabin embarked  \n",
       "0  211.3375       B5        S  \n",
       "1  151.5500  C22 C26        S  \n",
       "2  151.5500  C22 C26        S  \n",
       "3  151.5500  C22 C26        S  \n",
       "4  151.5500  C22 C26        S  "
      ]
     },
     "execution_count": 9,
     "metadata": {},
     "output_type": "execute_result"
    }
   ],
   "source": [
    "# Metode str.replace untuk mengganti spasi dengan garis bawah (_) dalam label kolom\n",
    "# Metode str.lower untuk mengubah semua huruf dalam label kolom menjadi huruf kecil\n",
    "# Operasi ini dilakukan untuk memastikan label kolom menjadi lebih bersih dan seragam\n",
    "df.columns = df.columns.str.replace(' ', '_').str.lower()\n",
    "\n",
    "# Menampilkan lima data awal dari data frame setelah penggantian dan penyesuaian label kolom\n",
    "df.head()"
   ]
  },
  {
   "cell_type": "markdown",
   "metadata": {
    "id": "vUtfj5gZroaS"
   },
   "source": [
    "# Memangkas Kelebihan Spasi pada Nama Kolom"
   ]
  },
  {
   "cell_type": "markdown",
   "metadata": {
    "id": "YQv6bRByrqQG"
   },
   "source": [
    "- Fungsi str.strip() berguna untuk memotong/ menghilangkan kelebihan spasi di sisi kiri maupun kanan."
   ]
  },
  {
   "cell_type": "code",
   "execution_count": 10,
   "metadata": {
    "id": "4f5O2kLZrtGp"
   },
   "outputs": [
    {
     "data": {
      "text/html": [
       "<div>\n",
       "<style scoped>\n",
       "    .dataframe tbody tr th:only-of-type {\n",
       "        vertical-align: middle;\n",
       "    }\n",
       "\n",
       "    .dataframe tbody tr th {\n",
       "        vertical-align: top;\n",
       "    }\n",
       "\n",
       "    .dataframe thead th {\n",
       "        text-align: right;\n",
       "    }\n",
       "</style>\n",
       "<table border=\"1\" class=\"dataframe\">\n",
       "  <thead>\n",
       "    <tr style=\"text-align: right;\">\n",
       "      <th></th>\n",
       "      <th>pclass</th>\n",
       "      <th>survival_status</th>\n",
       "      <th>full_name</th>\n",
       "      <th>sex</th>\n",
       "      <th>age</th>\n",
       "      <th>siblings/spouses_aboard</th>\n",
       "      <th>parents/children_aboard</th>\n",
       "      <th>ticket</th>\n",
       "      <th>fare</th>\n",
       "      <th>cabin</th>\n",
       "      <th>embarked</th>\n",
       "    </tr>\n",
       "  </thead>\n",
       "  <tbody>\n",
       "    <tr>\n",
       "      <th>0</th>\n",
       "      <td>1</td>\n",
       "      <td>1</td>\n",
       "      <td>Allen, Miss. Elisabeth Walton</td>\n",
       "      <td>female</td>\n",
       "      <td>29.00</td>\n",
       "      <td>0</td>\n",
       "      <td>0</td>\n",
       "      <td>24160</td>\n",
       "      <td>211.3375</td>\n",
       "      <td>B5</td>\n",
       "      <td>S</td>\n",
       "    </tr>\n",
       "    <tr>\n",
       "      <th>1</th>\n",
       "      <td>1</td>\n",
       "      <td>1</td>\n",
       "      <td>Allison, Master. Hudson Trevor</td>\n",
       "      <td>male</td>\n",
       "      <td>0.92</td>\n",
       "      <td>1</td>\n",
       "      <td>2</td>\n",
       "      <td>113781</td>\n",
       "      <td>151.5500</td>\n",
       "      <td>C22 C26</td>\n",
       "      <td>S</td>\n",
       "    </tr>\n",
       "    <tr>\n",
       "      <th>2</th>\n",
       "      <td>1</td>\n",
       "      <td>0</td>\n",
       "      <td>Allison, Miss. Helen Loraine</td>\n",
       "      <td>female</td>\n",
       "      <td>2.00</td>\n",
       "      <td>1</td>\n",
       "      <td>2</td>\n",
       "      <td>113781</td>\n",
       "      <td>151.5500</td>\n",
       "      <td>C22 C26</td>\n",
       "      <td>S</td>\n",
       "    </tr>\n",
       "    <tr>\n",
       "      <th>3</th>\n",
       "      <td>1</td>\n",
       "      <td>0</td>\n",
       "      <td>Allison, Mr. Hudson Joshua Creighton</td>\n",
       "      <td>male</td>\n",
       "      <td>30.00</td>\n",
       "      <td>1</td>\n",
       "      <td>2</td>\n",
       "      <td>113781</td>\n",
       "      <td>151.5500</td>\n",
       "      <td>C22 C26</td>\n",
       "      <td>S</td>\n",
       "    </tr>\n",
       "    <tr>\n",
       "      <th>4</th>\n",
       "      <td>1</td>\n",
       "      <td>0</td>\n",
       "      <td>Allison, Mrs. Hudson J C (Bessie Waldo Daniels)</td>\n",
       "      <td>female</td>\n",
       "      <td>25.00</td>\n",
       "      <td>1</td>\n",
       "      <td>2</td>\n",
       "      <td>113781</td>\n",
       "      <td>151.5500</td>\n",
       "      <td>C22 C26</td>\n",
       "      <td>S</td>\n",
       "    </tr>\n",
       "  </tbody>\n",
       "</table>\n",
       "</div>"
      ],
      "text/plain": [
       "   pclass  survival_status                                        full_name  \\\n",
       "0       1                1                    Allen, Miss. Elisabeth Walton   \n",
       "1       1                1                   Allison, Master. Hudson Trevor   \n",
       "2       1                0                     Allison, Miss. Helen Loraine   \n",
       "3       1                0             Allison, Mr. Hudson Joshua Creighton   \n",
       "4       1                0  Allison, Mrs. Hudson J C (Bessie Waldo Daniels)   \n",
       "\n",
       "      sex    age  siblings/spouses_aboard  parents/children_aboard  ticket  \\\n",
       "0  female  29.00                        0                        0   24160   \n",
       "1    male   0.92                        1                        2  113781   \n",
       "2  female   2.00                        1                        2  113781   \n",
       "3    male  30.00                        1                        2  113781   \n",
       "4  female  25.00                        1                        2  113781   \n",
       "\n",
       "       fare    cabin embarked  \n",
       "0  211.3375       B5        S  \n",
       "1  151.5500  C22 C26        S  \n",
       "2  151.5500  C22 C26        S  \n",
       "3  151.5500  C22 C26        S  \n",
       "4  151.5500  C22 C26        S  "
      ]
     },
     "execution_count": 10,
     "metadata": {},
     "output_type": "execute_result"
    }
   ],
   "source": [
    "# Membuat salinan mendalam (deep copy) dari data frame df_backup dan menyimpannya dalam variabel df\n",
    "df = df_backup.copy(deep=True)\n",
    "\n",
    "# Metode str.lower untuk mengubah semua huruf dalam label kolom menjadi huruf kecil\n",
    "# Metode str.strip untuk menghapus spasi di awal dan akhir label kolom\n",
    "# Metode str.replace untuk mengganti spasi dengan garis bawah (_) dalam label kolom\n",
    "# Operasi ini dilakukan untuk memastikan label kolom menjadi lebih bersih dan seragam\n",
    "df.columns = df.columns.str.lower().str.strip().str.replace(' ', '_')\n",
    "\n",
    "# Menampilkan lima data awal dari data frame setelah penggantian dan penyesuaian label kolom\n",
    "df.head()"
   ]
  }
 ],
 "metadata": {
  "colab": {
   "provenance": []
  },
  "kernelspec": {
   "display_name": "Python 3 (ipykernel)",
   "language": "python",
   "name": "python3"
  },
  "language_info": {
   "codemirror_mode": {
    "name": "ipython",
    "version": 3
   },
   "file_extension": ".py",
   "mimetype": "text/x-python",
   "name": "python",
   "nbconvert_exporter": "python",
   "pygments_lexer": "ipython3",
   "version": "3.10.7"
  }
 },
 "nbformat": 4,
 "nbformat_minor": 4
}
