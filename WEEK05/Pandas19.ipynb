{
 "cells": [
  {
   "cell_type": "markdown",
   "metadata": {
    "id": "Bl6ZkYSFYV1i"
   },
   "source": [
    "# **Pandas 19 - Formatting tampilan Data Frame**"
   ]
  },
  {
   "cell_type": "markdown",
   "metadata": {
    "id": "oCMMlG1SYdOS"
   },
   "source": [
    "### Import Modules"
   ]
  },
  {
   "cell_type": "code",
   "execution_count": 2,
   "metadata": {
    "colab": {
     "base_uri": "https://localhost:8080/"
    },
    "id": "bRafqAmvYjhJ",
    "outputId": "44b82d6d-4c81-4c6a-9595-80a66e81e0bd"
   },
   "outputs": [
    {
     "name": "stdout",
     "output_type": "stream",
     "text": [
      "2.2.0\n",
      "1.24.2\n"
     ]
    }
   ],
   "source": [
    "import pandas as pd\n",
    "import numpy as np\n",
    "\n",
    "print(pd.__version__)\n",
    "print(np.__version__)"
   ]
  },
  {
   "cell_type": "markdown",
   "metadata": {
    "id": "TJUGKEkEYpRx"
   },
   "source": [
    "### Persiapan Data Frame"
   ]
  },
  {
   "cell_type": "code",
   "execution_count": 3,
   "metadata": {
    "colab": {
     "base_uri": "https://localhost:8080/",
     "height": 206
    },
    "id": "4EIgLpdoYrlU",
    "outputId": "446d5f79-48ef-4705-c7d9-02743fb7743a"
   },
   "outputs": [
    {
     "data": {
      "text/html": [
       "<div>\n",
       "<style scoped>\n",
       "    .dataframe tbody tr th:only-of-type {\n",
       "        vertical-align: middle;\n",
       "    }\n",
       "\n",
       "    .dataframe tbody tr th {\n",
       "        vertical-align: top;\n",
       "    }\n",
       "\n",
       "    .dataframe thead th {\n",
       "        text-align: right;\n",
       "    }\n",
       "</style>\n",
       "<table border=\"1\" class=\"dataframe\">\n",
       "  <thead>\n",
       "    <tr style=\"text-align: right;\">\n",
       "      <th></th>\n",
       "      <th>omset</th>\n",
       "      <th>operasional</th>\n",
       "    </tr>\n",
       "  </thead>\n",
       "  <tbody>\n",
       "    <tr>\n",
       "      <th>0</th>\n",
       "      <td>12</td>\n",
       "      <td>19</td>\n",
       "    </tr>\n",
       "    <tr>\n",
       "      <th>1</th>\n",
       "      <td>14</td>\n",
       "      <td>7</td>\n",
       "    </tr>\n",
       "    <tr>\n",
       "      <th>2</th>\n",
       "      <td>9</td>\n",
       "      <td>12</td>\n",
       "    </tr>\n",
       "    <tr>\n",
       "      <th>3</th>\n",
       "      <td>13</td>\n",
       "      <td>7</td>\n",
       "    </tr>\n",
       "    <tr>\n",
       "      <th>4</th>\n",
       "      <td>16</td>\n",
       "      <td>19</td>\n",
       "    </tr>\n",
       "  </tbody>\n",
       "</table>\n",
       "</div>"
      ],
      "text/plain": [
       "   omset  operasional\n",
       "0     12           19\n",
       "1     14            7\n",
       "2      9           12\n",
       "3     13            7\n",
       "4     16           19"
      ]
     },
     "execution_count": 3,
     "metadata": {},
     "output_type": "execute_result"
    }
   ],
   "source": [
    "n_rows = 5\n",
    "n_cols = 2\n",
    "cols = ['omset', 'operasional']\n",
    "\n",
    "df = pd.DataFrame(np.random.randint(1, 20, size=(n_rows, n_cols)), \n",
    "                  columns=cols)\n",
    "df"
   ]
  },
  {
   "cell_type": "code",
   "execution_count": 4,
   "metadata": {
    "colab": {
     "base_uri": "https://localhost:8080/",
     "height": 206
    },
    "id": "qFuxBrxEY7I1",
    "outputId": "58bf0d6d-024f-42db-aae7-9e77569ab687"
   },
   "outputs": [
    {
     "data": {
      "text/html": [
       "<div>\n",
       "<style scoped>\n",
       "    .dataframe tbody tr th:only-of-type {\n",
       "        vertical-align: middle;\n",
       "    }\n",
       "\n",
       "    .dataframe tbody tr th {\n",
       "        vertical-align: top;\n",
       "    }\n",
       "\n",
       "    .dataframe thead th {\n",
       "        text-align: right;\n",
       "    }\n",
       "</style>\n",
       "<table border=\"1\" class=\"dataframe\">\n",
       "  <thead>\n",
       "    <tr style=\"text-align: right;\">\n",
       "      <th></th>\n",
       "      <th>omset</th>\n",
       "      <th>operasional</th>\n",
       "    </tr>\n",
       "  </thead>\n",
       "  <tbody>\n",
       "    <tr>\n",
       "      <th>0</th>\n",
       "      <td>1200000</td>\n",
       "      <td>190000</td>\n",
       "    </tr>\n",
       "    <tr>\n",
       "      <th>1</th>\n",
       "      <td>1400000</td>\n",
       "      <td>70000</td>\n",
       "    </tr>\n",
       "    <tr>\n",
       "      <th>2</th>\n",
       "      <td>900000</td>\n",
       "      <td>120000</td>\n",
       "    </tr>\n",
       "    <tr>\n",
       "      <th>3</th>\n",
       "      <td>1300000</td>\n",
       "      <td>70000</td>\n",
       "    </tr>\n",
       "    <tr>\n",
       "      <th>4</th>\n",
       "      <td>1600000</td>\n",
       "      <td>190000</td>\n",
       "    </tr>\n",
       "  </tbody>\n",
       "</table>\n",
       "</div>"
      ],
      "text/plain": [
       "     omset  operasional\n",
       "0  1200000       190000\n",
       "1  1400000        70000\n",
       "2   900000       120000\n",
       "3  1300000        70000\n",
       "4  1600000       190000"
      ]
     },
     "execution_count": 4,
     "metadata": {},
     "output_type": "execute_result"
    }
   ],
   "source": [
    "df['omset'] = df['omset'] * 100_000\n",
    "df['operasional'] = df['operasional'] * 10_000\n",
    "df"
   ]
  },
  {
   "cell_type": "code",
   "execution_count": 5,
   "metadata": {
    "colab": {
     "base_uri": "https://localhost:8080/",
     "height": 206
    },
    "id": "Y00Bkh8bZAxG",
    "outputId": "f154d056-e45a-4f11-82a1-4ef6c1d65b7f"
   },
   "outputs": [
    {
     "data": {
      "text/html": [
       "<div>\n",
       "<style scoped>\n",
       "    .dataframe tbody tr th:only-of-type {\n",
       "        vertical-align: middle;\n",
       "    }\n",
       "\n",
       "    .dataframe tbody tr th {\n",
       "        vertical-align: top;\n",
       "    }\n",
       "\n",
       "    .dataframe thead th {\n",
       "        text-align: right;\n",
       "    }\n",
       "</style>\n",
       "<table border=\"1\" class=\"dataframe\">\n",
       "  <thead>\n",
       "    <tr style=\"text-align: right;\">\n",
       "      <th></th>\n",
       "      <th>tanggal</th>\n",
       "      <th>omset</th>\n",
       "      <th>operasional</th>\n",
       "    </tr>\n",
       "  </thead>\n",
       "  <tbody>\n",
       "    <tr>\n",
       "      <th>0</th>\n",
       "      <td>2000-01-01</td>\n",
       "      <td>1200000</td>\n",
       "      <td>190000</td>\n",
       "    </tr>\n",
       "    <tr>\n",
       "      <th>1</th>\n",
       "      <td>2000-01-02</td>\n",
       "      <td>1400000</td>\n",
       "      <td>70000</td>\n",
       "    </tr>\n",
       "    <tr>\n",
       "      <th>2</th>\n",
       "      <td>2000-01-03</td>\n",
       "      <td>900000</td>\n",
       "      <td>120000</td>\n",
       "    </tr>\n",
       "    <tr>\n",
       "      <th>3</th>\n",
       "      <td>2000-01-04</td>\n",
       "      <td>1300000</td>\n",
       "      <td>70000</td>\n",
       "    </tr>\n",
       "    <tr>\n",
       "      <th>4</th>\n",
       "      <td>2000-01-05</td>\n",
       "      <td>1600000</td>\n",
       "      <td>190000</td>\n",
       "    </tr>\n",
       "  </tbody>\n",
       "</table>\n",
       "</div>"
      ],
      "text/plain": [
       "     tanggal    omset  operasional\n",
       "0 2000-01-01  1200000       190000\n",
       "1 2000-01-02  1400000        70000\n",
       "2 2000-01-03   900000       120000\n",
       "3 2000-01-04  1300000        70000\n",
       "4 2000-01-05  1600000       190000"
      ]
     },
     "execution_count": 5,
     "metadata": {},
     "output_type": "execute_result"
    }
   ],
   "source": [
    "# Menambahkan kolom 'tanggal'\n",
    "start_date = pd.to_datetime('2000-01-01')\n",
    "df['tanggal'] = pd.date_range(start=start_date, periods=n_rows)\n",
    "\n",
    "# Reorder columns to match the desired order\n",
    "df = df[['tanggal', 'omset', 'operasional']]\n",
    "\n",
    "# Display the DataFrame\n",
    "df"
   ]
  },
  {
   "cell_type": "markdown",
   "metadata": {
    "id": "AO7eObsqZFpV"
   },
   "source": [
    "### Melakukan formatting tampilan Data Frame"
   ]
  },
  {
   "cell_type": "code",
   "execution_count": 6,
   "metadata": {
    "colab": {
     "base_uri": "https://localhost:8080/",
     "height": 206
    },
    "id": "BeE6DZ-WZNNR",
    "outputId": "1abfda6e-e806-4940-ee6e-3b72fc8b655d"
   },
   "outputs": [
    {
     "data": {
      "text/html": [
       "<style type=\"text/css\">\n",
       "</style>\n",
       "<table id=\"T_0e033\">\n",
       "  <thead>\n",
       "    <tr>\n",
       "      <th class=\"blank level0\" >&nbsp;</th>\n",
       "      <th id=\"T_0e033_level0_col0\" class=\"col_heading level0 col0\" >tanggal</th>\n",
       "      <th id=\"T_0e033_level0_col1\" class=\"col_heading level0 col1\" >omset</th>\n",
       "      <th id=\"T_0e033_level0_col2\" class=\"col_heading level0 col2\" >operasional</th>\n",
       "    </tr>\n",
       "  </thead>\n",
       "  <tbody>\n",
       "    <tr>\n",
       "      <th id=\"T_0e033_level0_row0\" class=\"row_heading level0 row0\" >0</th>\n",
       "      <td id=\"T_0e033_row0_col0\" class=\"data row0 col0\" >01/01/00</td>\n",
       "      <td id=\"T_0e033_row0_col1\" class=\"data row0 col1\" >Rp 1200000.00</td>\n",
       "      <td id=\"T_0e033_row0_col2\" class=\"data row0 col2\" >Rp 190000.00</td>\n",
       "    </tr>\n",
       "    <tr>\n",
       "      <th id=\"T_0e033_level0_row1\" class=\"row_heading level0 row1\" >1</th>\n",
       "      <td id=\"T_0e033_row1_col0\" class=\"data row1 col0\" >02/01/00</td>\n",
       "      <td id=\"T_0e033_row1_col1\" class=\"data row1 col1\" >Rp 1400000.00</td>\n",
       "      <td id=\"T_0e033_row1_col2\" class=\"data row1 col2\" >Rp 70000.00</td>\n",
       "    </tr>\n",
       "    <tr>\n",
       "      <th id=\"T_0e033_level0_row2\" class=\"row_heading level0 row2\" >2</th>\n",
       "      <td id=\"T_0e033_row2_col0\" class=\"data row2 col0\" >03/01/00</td>\n",
       "      <td id=\"T_0e033_row2_col1\" class=\"data row2 col1\" >Rp 900000.00</td>\n",
       "      <td id=\"T_0e033_row2_col2\" class=\"data row2 col2\" >Rp 120000.00</td>\n",
       "    </tr>\n",
       "    <tr>\n",
       "      <th id=\"T_0e033_level0_row3\" class=\"row_heading level0 row3\" >3</th>\n",
       "      <td id=\"T_0e033_row3_col0\" class=\"data row3 col0\" >04/01/00</td>\n",
       "      <td id=\"T_0e033_row3_col1\" class=\"data row3 col1\" >Rp 1300000.00</td>\n",
       "      <td id=\"T_0e033_row3_col2\" class=\"data row3 col2\" >Rp 70000.00</td>\n",
       "    </tr>\n",
       "    <tr>\n",
       "      <th id=\"T_0e033_level0_row4\" class=\"row_heading level0 row4\" >4</th>\n",
       "      <td id=\"T_0e033_row4_col0\" class=\"data row4 col0\" >05/01/00</td>\n",
       "      <td id=\"T_0e033_row4_col1\" class=\"data row4 col1\" >Rp 1600000.00</td>\n",
       "      <td id=\"T_0e033_row4_col2\" class=\"data row4 col2\" >Rp 190000.00</td>\n",
       "    </tr>\n",
       "  </tbody>\n",
       "</table>\n"
      ],
      "text/plain": [
       "<pandas.io.formats.style.Styler at 0x26a16442ce0>"
      ]
     },
     "execution_count": 6,
     "metadata": {},
     "output_type": "execute_result"
    }
   ],
   "source": [
    "# Format yang akan digunakan untuk menampilkan DataFrame\n",
    "formatku = {'tanggal': '{:%d/%m/%y}', 'operasional': 'Rp {:.2f}', 'omset': 'Rp {:.2f}'}\n",
    "\n",
    "# Membuat objek Styler untuk DataFrame dengan format yang ditentukan\n",
    "laporan = df.style.format(formatku)\n",
    "\n",
    "# Menampilkan objek Styler, bukan objek DataFrame\n",
    "laporan"
   ]
  },
  {
   "cell_type": "code",
   "execution_count": 7,
   "metadata": {
    "colab": {
     "base_uri": "https://localhost:8080/"
    },
    "id": "AdgYD7hOev9z",
    "outputId": "6b9b5d5f-0e38-4170-c7ac-0d183589a087"
   },
   "outputs": [
    {
     "data": {
      "text/plain": [
       "pandas.io.formats.style.Styler"
      ]
     },
     "execution_count": 7,
     "metadata": {},
     "output_type": "execute_result"
    }
   ],
   "source": [
    "# Menampilkan tipe data dari objek Styler\n",
    "type(laporan)"
   ]
  },
  {
   "cell_type": "code",
   "execution_count": 8,
   "metadata": {
    "colab": {
     "base_uri": "https://localhost:8080/",
     "height": 206
    },
    "id": "_gZEVpoMe1uV",
    "outputId": "7723e339-3032-44e5-ae77-433e5de73f41"
   },
   "outputs": [
    {
     "data": {
      "text/html": [
       "<style type=\"text/css\">\n",
       "</style>\n",
       "<table id=\"T_ff9e4\">\n",
       "  <thead>\n",
       "    <tr>\n",
       "      <th class=\"blank level0\" >&nbsp;</th>\n",
       "      <th id=\"T_ff9e4_level0_col0\" class=\"col_heading level0 col0\" >tanggal</th>\n",
       "      <th id=\"T_ff9e4_level0_col1\" class=\"col_heading level0 col1\" >omset</th>\n",
       "      <th id=\"T_ff9e4_level0_col2\" class=\"col_heading level0 col2\" >operasional</th>\n",
       "    </tr>\n",
       "  </thead>\n",
       "  <tbody>\n",
       "    <tr>\n",
       "      <th id=\"T_ff9e4_level0_row0\" class=\"row_heading level0 row0\" ></th>\n",
       "      <td id=\"T_ff9e4_row0_col0\" class=\"data row0 col0\" >01/01/00</td>\n",
       "      <td id=\"T_ff9e4_row0_col1\" class=\"data row0 col1\" >Rp 1200000.00</td>\n",
       "      <td id=\"T_ff9e4_row0_col2\" class=\"data row0 col2\" >Rp 190000.00</td>\n",
       "    </tr>\n",
       "    <tr>\n",
       "      <th id=\"T_ff9e4_level0_row1\" class=\"row_heading level0 row1\" ></th>\n",
       "      <td id=\"T_ff9e4_row1_col0\" class=\"data row1 col0\" >02/01/00</td>\n",
       "      <td id=\"T_ff9e4_row1_col1\" class=\"data row1 col1\" >Rp 1400000.00</td>\n",
       "      <td id=\"T_ff9e4_row1_col2\" class=\"data row1 col2\" >Rp 70000.00</td>\n",
       "    </tr>\n",
       "    <tr>\n",
       "      <th id=\"T_ff9e4_level0_row2\" class=\"row_heading level0 row2\" ></th>\n",
       "      <td id=\"T_ff9e4_row2_col0\" class=\"data row2 col0\" >03/01/00</td>\n",
       "      <td id=\"T_ff9e4_row2_col1\" class=\"data row2 col1\" >Rp 900000.00</td>\n",
       "      <td id=\"T_ff9e4_row2_col2\" class=\"data row2 col2\" >Rp 120000.00</td>\n",
       "    </tr>\n",
       "    <tr>\n",
       "      <th id=\"T_ff9e4_level0_row3\" class=\"row_heading level0 row3\" ></th>\n",
       "      <td id=\"T_ff9e4_row3_col0\" class=\"data row3 col0\" >04/01/00</td>\n",
       "      <td id=\"T_ff9e4_row3_col1\" class=\"data row3 col1\" >Rp 1300000.00</td>\n",
       "      <td id=\"T_ff9e4_row3_col2\" class=\"data row3 col2\" >Rp 70000.00</td>\n",
       "    </tr>\n",
       "    <tr>\n",
       "      <th id=\"T_ff9e4_level0_row4\" class=\"row_heading level0 row4\" ></th>\n",
       "      <td id=\"T_ff9e4_row4_col0\" class=\"data row4 col0\" >05/01/00</td>\n",
       "      <td id=\"T_ff9e4_row4_col1\" class=\"data row4 col1\" >Rp 1600000.00</td>\n",
       "      <td id=\"T_ff9e4_row4_col2\" class=\"data row4 col2\" >Rp 190000.00</td>\n",
       "    </tr>\n",
       "  </tbody>\n",
       "</table>\n"
      ],
      "text/plain": [
       "<pandas.io.formats.style.Styler at 0x26a163a2b00>"
      ]
     },
     "execution_count": 8,
     "metadata": {},
     "output_type": "execute_result"
    }
   ],
   "source": [
    "# Membuat salinan DataFrame dan mengganti indeksnya dengan string kosong\n",
    "df_temp = df.copy()\n",
    "df_temp.index = [''] * len(df)\n",
    "\n",
    "# Membuat objek Styler dengan format yang telah ditentukan\n",
    "df_temp_styled = df_temp.style.format(formatku)\n",
    "\n",
    "# Menampilkan tampilan yang diformat menggunakan Styler\n",
    "df_temp_styled"
   ]
  },
  {
   "cell_type": "code",
   "execution_count": 9,
   "metadata": {
    "colab": {
     "base_uri": "https://localhost:8080/",
     "height": 224
    },
    "id": "NDBJ6P0ve6tx",
    "outputId": "c409bc30-5069-4bc1-8375-09b1e1cb6373"
   },
   "outputs": [
    {
     "data": {
      "text/html": [
       "<style type=\"text/css\">\n",
       "</style>\n",
       "<table id=\"T_0e033\">\n",
       "  <caption>Data Omset dan Operasional</caption>\n",
       "  <thead>\n",
       "    <tr>\n",
       "      <th class=\"blank level0\" >&nbsp;</th>\n",
       "      <th id=\"T_0e033_level0_col0\" class=\"col_heading level0 col0\" >tanggal</th>\n",
       "      <th id=\"T_0e033_level0_col1\" class=\"col_heading level0 col1\" >omset</th>\n",
       "      <th id=\"T_0e033_level0_col2\" class=\"col_heading level0 col2\" >operasional</th>\n",
       "    </tr>\n",
       "  </thead>\n",
       "  <tbody>\n",
       "    <tr>\n",
       "      <th id=\"T_0e033_level0_row0\" class=\"row_heading level0 row0\" >0</th>\n",
       "      <td id=\"T_0e033_row0_col0\" class=\"data row0 col0\" >01/01/00</td>\n",
       "      <td id=\"T_0e033_row0_col1\" class=\"data row0 col1\" >Rp 1200000.00</td>\n",
       "      <td id=\"T_0e033_row0_col2\" class=\"data row0 col2\" >Rp 190000.00</td>\n",
       "    </tr>\n",
       "    <tr>\n",
       "      <th id=\"T_0e033_level0_row1\" class=\"row_heading level0 row1\" >1</th>\n",
       "      <td id=\"T_0e033_row1_col0\" class=\"data row1 col0\" >02/01/00</td>\n",
       "      <td id=\"T_0e033_row1_col1\" class=\"data row1 col1\" >Rp 1400000.00</td>\n",
       "      <td id=\"T_0e033_row1_col2\" class=\"data row1 col2\" >Rp 70000.00</td>\n",
       "    </tr>\n",
       "    <tr>\n",
       "      <th id=\"T_0e033_level0_row2\" class=\"row_heading level0 row2\" >2</th>\n",
       "      <td id=\"T_0e033_row2_col0\" class=\"data row2 col0\" >03/01/00</td>\n",
       "      <td id=\"T_0e033_row2_col1\" class=\"data row2 col1\" >Rp 900000.00</td>\n",
       "      <td id=\"T_0e033_row2_col2\" class=\"data row2 col2\" >Rp 120000.00</td>\n",
       "    </tr>\n",
       "    <tr>\n",
       "      <th id=\"T_0e033_level0_row3\" class=\"row_heading level0 row3\" >3</th>\n",
       "      <td id=\"T_0e033_row3_col0\" class=\"data row3 col0\" >04/01/00</td>\n",
       "      <td id=\"T_0e033_row3_col1\" class=\"data row3 col1\" >Rp 1300000.00</td>\n",
       "      <td id=\"T_0e033_row3_col2\" class=\"data row3 col2\" >Rp 70000.00</td>\n",
       "    </tr>\n",
       "    <tr>\n",
       "      <th id=\"T_0e033_level0_row4\" class=\"row_heading level0 row4\" >4</th>\n",
       "      <td id=\"T_0e033_row4_col0\" class=\"data row4 col0\" >05/01/00</td>\n",
       "      <td id=\"T_0e033_row4_col1\" class=\"data row4 col1\" >Rp 1600000.00</td>\n",
       "      <td id=\"T_0e033_row4_col2\" class=\"data row4 col2\" >Rp 190000.00</td>\n",
       "    </tr>\n",
       "  </tbody>\n",
       "</table>\n"
      ],
      "text/plain": [
       "<pandas.io.formats.style.Styler at 0x26a16442ce0>"
      ]
     },
     "execution_count": 9,
     "metadata": {},
     "output_type": "execute_result"
    }
   ],
   "source": [
    "# Menambahkan judul/caption ke Styler\n",
    "laporan.set_caption('Data Omset dan Operasional')\n",
    "\n",
    "# Memberikan caption atau judul pada tampilan Styler untuk memberikan konteks atau informasi tambahan."
   ]
  },
  {
   "cell_type": "code",
   "execution_count": 10,
   "metadata": {
    "colab": {
     "base_uri": "https://localhost:8080/",
     "height": 224
    },
    "id": "PoZ6xwObe_PM",
    "outputId": "945b7a68-4d0c-4590-c9a6-15ae2991380b"
   },
   "outputs": [
    {
     "data": {
      "text/html": [
       "<style type=\"text/css\">\n",
       "#T_0e033_row0_col2, #T_0e033_row4_col2 {\n",
       "  background-color: grey;\n",
       "}\n",
       "#T_0e033_row1_col2, #T_0e033_row3_col2 {\n",
       "  background-color: lightblue;\n",
       "}\n",
       "#T_0e033_row2_col1 {\n",
       "  background-color: pink;\n",
       "}\n",
       "#T_0e033_row4_col1 {\n",
       "  background-color: lightgreen;\n",
       "}\n",
       "</style>\n",
       "<table id=\"T_0e033\">\n",
       "  <caption>Data Omset dan Operasional</caption>\n",
       "  <thead>\n",
       "    <tr>\n",
       "      <th class=\"blank level0\" >&nbsp;</th>\n",
       "      <th id=\"T_0e033_level0_col0\" class=\"col_heading level0 col0\" >tanggal</th>\n",
       "      <th id=\"T_0e033_level0_col1\" class=\"col_heading level0 col1\" >omset</th>\n",
       "      <th id=\"T_0e033_level0_col2\" class=\"col_heading level0 col2\" >operasional</th>\n",
       "    </tr>\n",
       "  </thead>\n",
       "  <tbody>\n",
       "    <tr>\n",
       "      <th id=\"T_0e033_level0_row0\" class=\"row_heading level0 row0\" >0</th>\n",
       "      <td id=\"T_0e033_row0_col0\" class=\"data row0 col0\" >01/01/00</td>\n",
       "      <td id=\"T_0e033_row0_col1\" class=\"data row0 col1\" >Rp 1200000.00</td>\n",
       "      <td id=\"T_0e033_row0_col2\" class=\"data row0 col2\" >Rp 190000.00</td>\n",
       "    </tr>\n",
       "    <tr>\n",
       "      <th id=\"T_0e033_level0_row1\" class=\"row_heading level0 row1\" >1</th>\n",
       "      <td id=\"T_0e033_row1_col0\" class=\"data row1 col0\" >02/01/00</td>\n",
       "      <td id=\"T_0e033_row1_col1\" class=\"data row1 col1\" >Rp 1400000.00</td>\n",
       "      <td id=\"T_0e033_row1_col2\" class=\"data row1 col2\" >Rp 70000.00</td>\n",
       "    </tr>\n",
       "    <tr>\n",
       "      <th id=\"T_0e033_level0_row2\" class=\"row_heading level0 row2\" >2</th>\n",
       "      <td id=\"T_0e033_row2_col0\" class=\"data row2 col0\" >03/01/00</td>\n",
       "      <td id=\"T_0e033_row2_col1\" class=\"data row2 col1\" >Rp 900000.00</td>\n",
       "      <td id=\"T_0e033_row2_col2\" class=\"data row2 col2\" >Rp 120000.00</td>\n",
       "    </tr>\n",
       "    <tr>\n",
       "      <th id=\"T_0e033_level0_row3\" class=\"row_heading level0 row3\" >3</th>\n",
       "      <td id=\"T_0e033_row3_col0\" class=\"data row3 col0\" >04/01/00</td>\n",
       "      <td id=\"T_0e033_row3_col1\" class=\"data row3 col1\" >Rp 1300000.00</td>\n",
       "      <td id=\"T_0e033_row3_col2\" class=\"data row3 col2\" >Rp 70000.00</td>\n",
       "    </tr>\n",
       "    <tr>\n",
       "      <th id=\"T_0e033_level0_row4\" class=\"row_heading level0 row4\" >4</th>\n",
       "      <td id=\"T_0e033_row4_col0\" class=\"data row4 col0\" >05/01/00</td>\n",
       "      <td id=\"T_0e033_row4_col1\" class=\"data row4 col1\" >Rp 1600000.00</td>\n",
       "      <td id=\"T_0e033_row4_col2\" class=\"data row4 col2\" >Rp 190000.00</td>\n",
       "    </tr>\n",
       "  </tbody>\n",
       "</table>\n"
      ],
      "text/plain": [
       "<pandas.io.formats.style.Styler at 0x26a16442ce0>"
      ]
     },
     "execution_count": 10,
     "metadata": {},
     "output_type": "execute_result"
    }
   ],
   "source": [
    "# Menyoroti nilai minimum dan maksimum pada kolom 'omset' dengan warna berbeda\n",
    "laporan.highlight_min('omset', color='pink')\n",
    "laporan.highlight_max('omset', color='lightgreen')\n",
    "\n",
    "# Menyoroti nilai minimum dan maksimum pada kolom 'operasional' dengan warna berbeda\n",
    "laporan.highlight_min('operasional', color='lightblue')\n",
    "laporan.highlight_max('operasional', color='grey')\n",
    "\n",
    "# Menyajikan tampilan yang diberi sorotan untuk memvisualisasikan nilai minimum dan maksimum pada data omset dan operasional."
   ]
  }
 ],
 "metadata": {
  "colab": {
   "provenance": []
  },
  "kernelspec": {
   "display_name": "Python 3 (ipykernel)",
   "language": "python",
   "name": "python3"
  },
  "language_info": {
   "codemirror_mode": {
    "name": "ipython",
    "version": 3
   },
   "file_extension": ".py",
   "mimetype": "text/x-python",
   "name": "python",
   "nbconvert_exporter": "python",
   "pygments_lexer": "ipython3",
   "version": "3.10.7"
  }
 },
 "nbformat": 4,
 "nbformat_minor": 4
}
