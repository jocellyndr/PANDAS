{
 "cells": [
  {
   "cell_type": "markdown",
   "metadata": {
    "id": "HAvKCvCWXar2"
   },
   "source": [
    "# **Pandas 18 - Membentuk dummy Data Frame**"
   ]
  },
  {
   "cell_type": "markdown",
   "metadata": {
    "id": "LqLJaGK7Xihw"
   },
   "source": [
    "### Import Modules"
   ]
  },
  {
   "cell_type": "code",
   "execution_count": 5,
   "metadata": {
    "colab": {
     "base_uri": "https://localhost:8080/"
    },
    "id": "5csXS5ywXmTS",
    "outputId": "30c50b93-bd60-4999-8ec4-f2079ce97927"
   },
   "outputs": [
    {
     "name": "stdout",
     "output_type": "stream",
     "text": [
      "2.1.1\n",
      "1.24.2\n"
     ]
    }
   ],
   "source": [
    "import pandas as pd\n",
    "import numpy as np\n",
    "\n",
    "print(pd.__version__)\n",
    "print(np.__version__)"
   ]
  },
  {
   "cell_type": "markdown",
   "metadata": {
    "id": "Aw-zWTsSXpND"
   },
   "source": [
    "### Membentuk Data Frame dari Dictionary"
   ]
  },
  {
   "cell_type": "code",
   "execution_count": 6,
   "metadata": {
    "colab": {
     "base_uri": "https://localhost:8080/",
     "height": 175
    },
    "id": "_CfINfoIXtHj",
    "outputId": "b535f94b-5b79-4dcf-e2db-0e3ed6a5aaa3"
   },
   "outputs": [
    {
     "data": {
      "text/html": [
       "<div>\n",
       "<style scoped>\n",
       "    .dataframe tbody tr th:only-of-type {\n",
       "        vertical-align: middle;\n",
       "    }\n",
       "\n",
       "    .dataframe tbody tr th {\n",
       "        vertical-align: top;\n",
       "    }\n",
       "\n",
       "    .dataframe thead th {\n",
       "        text-align: right;\n",
       "    }\n",
       "</style>\n",
       "<table border=\"1\" class=\"dataframe\">\n",
       "  <thead>\n",
       "    <tr style=\"text-align: right;\">\n",
       "      <th></th>\n",
       "      <th>col1</th>\n",
       "      <th>col2</th>\n",
       "    </tr>\n",
       "  </thead>\n",
       "  <tbody>\n",
       "    <tr>\n",
       "      <th>0</th>\n",
       "      <td>1</td>\n",
       "      <td>5</td>\n",
       "    </tr>\n",
       "    <tr>\n",
       "      <th>1</th>\n",
       "      <td>2</td>\n",
       "      <td>6</td>\n",
       "    </tr>\n",
       "    <tr>\n",
       "      <th>2</th>\n",
       "      <td>3</td>\n",
       "      <td>7</td>\n",
       "    </tr>\n",
       "    <tr>\n",
       "      <th>3</th>\n",
       "      <td>4</td>\n",
       "      <td>8</td>\n",
       "    </tr>\n",
       "  </tbody>\n",
       "</table>\n",
       "</div>"
      ],
      "text/plain": [
       "   col1  col2\n",
       "0     1     5\n",
       "1     2     6\n",
       "2     3     7\n",
       "3     4     8"
      ]
     },
     "execution_count": 6,
     "metadata": {},
     "output_type": "execute_result"
    }
   ],
   "source": [
    "pd.DataFrame({'col1':[1, 2, 3, 4], \n",
    "              'col2':[5, 6, 7, 8]})"
   ]
  },
  {
   "cell_type": "markdown",
   "metadata": {
    "id": "tYZnj624Xv93"
   },
   "source": [
    "### Membentuk Data Frame dari Numpy Array"
   ]
  },
  {
   "cell_type": "code",
   "execution_count": 7,
   "metadata": {
    "colab": {
     "base_uri": "https://localhost:8080/"
    },
    "id": "bCTd-_vGXvZ6",
    "outputId": "b31558dd-dcfc-495a-8968-c59d001c4599"
   },
   "outputs": [
    {
     "data": {
      "text/plain": [
       "array([[12, 10, 15],\n",
       "       [ 6,  4,  7],\n",
       "       [ 8, 17,  8],\n",
       "       [ 5, 15, 10],\n",
       "       [18,  7,  1]])"
      ]
     },
     "execution_count": 7,
     "metadata": {},
     "output_type": "execute_result"
    }
   ],
   "source": [
    "# Menentukan jumlah baris (n_rows) dan kolom (n_cols) dalam array\n",
    "n_rows = 5\n",
    "n_cols = 3\n",
    "\n",
    "# Menghasilkan array 2D dengan nilai acak dari 1 hingga 20\n",
    "arr = np.random.randint(1, 20, size=(n_rows, n_cols))\n",
    "\n",
    "# Menampilkan array yang telah dibuat\n",
    "arr"
   ]
  },
  {
   "cell_type": "code",
   "execution_count": 8,
   "metadata": {
    "colab": {
     "base_uri": "https://localhost:8080/",
     "height": 206
    },
    "id": "O-0J6lZ4X6lg",
    "outputId": "02b87257-ddf4-4dfd-d67a-38df48191500"
   },
   "outputs": [],
   "source": [
    "# Menggunakan library pandas untuk membuat data frame dari array (arr)\n",
    "# Menetapkan label kolom 'A', 'B', dan 'C' pada data frame menggunakan tuple('ABC')\n",
    "df = pd.DataFrame(arr, columns=tuple('ABC'))"
   ]
  },
  {
   "cell_type": "markdown",
   "metadata": {
    "id": "yPRaCRB3X9-5"
   },
   "source": [
    "### Membentuk Data Frame dengan Memanfaatkan pandas.util.testing\n",
    "*1. Membuat dummy dataframe*"
   ]
  },
  {
   "cell_type": "code",
   "execution_count": 9,
   "metadata": {
    "colab": {
     "base_uri": "https://localhost:8080/",
     "height": 206
    },
    "id": "9-RW2yb6YGo7",
    "outputId": "e320138b-a948-4720-cf56-a7b0858d8a0c"
   },
   "outputs": [
    {
     "name": "stdout",
     "output_type": "stream",
     "text": [
      "        Date  value\n",
      "0 2023-01-01     81\n",
      "1 2023-01-02     74\n",
      "2 2023-01-03     58\n",
      "3 2023-01-04     76\n",
      "4 2023-01-05     22\n"
     ]
    }
   ],
   "source": [
    "# Membuat data frame dummy dengan waktu menggunakan pd.date_range\n",
    "# dan menambahkan kolom dengan nilai acak menggunakan numpy\n",
    "date_rng = pd.date_range(start='2023-01-01', end='2023-01-05', freq='D')\n",
    "df = pd.DataFrame(date_rng, columns=['Date'])\n",
    "df['value'] = np.random.randint(1, 100, size=(len(date_rng)))\n",
    "\n",
    "# Menampilkan lima data awal dari data frame\n",
    "result = df.reset_index(drop=True)\n",
    "print(result)"
   ]
  },
  {
   "cell_type": "markdown",
   "metadata": {
    "id": "rdfdsaNtYINg"
   },
   "source": [
    "*2. Membuat dummy dataframe dengan tipe data yang berbeda*"
   ]
  },
  {
   "cell_type": "code",
   "execution_count": 10,
   "metadata": {
    "colab": {
     "base_uri": "https://localhost:8080/",
     "height": 206
    },
    "id": "X9KjuSRFYKcs",
    "outputId": "1136d115-bf82-496d-fa2a-f924824156f4"
   },
   "outputs": [
    {
     "data": {
      "text/html": [
       "<div>\n",
       "<style scoped>\n",
       "    .dataframe tbody tr th:only-of-type {\n",
       "        vertical-align: middle;\n",
       "    }\n",
       "\n",
       "    .dataframe tbody tr th {\n",
       "        vertical-align: top;\n",
       "    }\n",
       "\n",
       "    .dataframe thead th {\n",
       "        text-align: right;\n",
       "    }\n",
       "</style>\n",
       "<table border=\"1\" class=\"dataframe\">\n",
       "  <thead>\n",
       "    <tr style=\"text-align: right;\">\n",
       "      <th></th>\n",
       "      <th>col1</th>\n",
       "      <th>col2</th>\n",
       "      <th>col3</th>\n",
       "      <th>col4</th>\n",
       "      <th>col5</th>\n",
       "    </tr>\n",
       "  </thead>\n",
       "  <tbody>\n",
       "    <tr>\n",
       "      <th>0</th>\n",
       "      <td>10</td>\n",
       "      <td>0.161284</td>\n",
       "      <td>A</td>\n",
       "      <td>2023-01-01</td>\n",
       "      <td>True</td>\n",
       "    </tr>\n",
       "    <tr>\n",
       "      <th>1</th>\n",
       "      <td>52</td>\n",
       "      <td>0.696449</td>\n",
       "      <td>B</td>\n",
       "      <td>2023-01-02</td>\n",
       "      <td>False</td>\n",
       "    </tr>\n",
       "    <tr>\n",
       "      <th>2</th>\n",
       "      <td>98</td>\n",
       "      <td>0.876159</td>\n",
       "      <td>C</td>\n",
       "      <td>2023-01-03</td>\n",
       "      <td>True</td>\n",
       "    </tr>\n",
       "    <tr>\n",
       "      <th>3</th>\n",
       "      <td>44</td>\n",
       "      <td>0.637030</td>\n",
       "      <td>D</td>\n",
       "      <td>2023-01-04</td>\n",
       "      <td>False</td>\n",
       "    </tr>\n",
       "    <tr>\n",
       "      <th>4</th>\n",
       "      <td>41</td>\n",
       "      <td>0.658800</td>\n",
       "      <td>E</td>\n",
       "      <td>2023-01-05</td>\n",
       "      <td>True</td>\n",
       "    </tr>\n",
       "  </tbody>\n",
       "</table>\n",
       "</div>"
      ],
      "text/plain": [
       "   col1      col2 col3       col4   col5\n",
       "0    10  0.161284    A 2023-01-01   True\n",
       "1    52  0.696449    B 2023-01-02  False\n",
       "2    98  0.876159    C 2023-01-03   True\n",
       "3    44  0.637030    D 2023-01-04  False\n",
       "4    41  0.658800    E 2023-01-05   True"
      ]
     },
     "execution_count": 10,
     "metadata": {},
     "output_type": "execute_result"
    }
   ],
   "source": [
    "# Membuat dummy dataframe dengan tipe data yang berbeda\n",
    "data = {\n",
    "    'col1': np.random.randint(1, 100, size=5),\n",
    "    'col2': np.random.rand(5),\n",
    "    'col3': ['A', 'B', 'C', 'D', 'E'],\n",
    "    'col4': pd.date_range(start='2023-01-01', periods=5, freq='D'),\n",
    "    'col5': [True, False, True, False, True]\n",
    "}\n",
    "\n",
    "# Membuat dataframe dari kamus data\n",
    "df = pd.DataFrame(data)\n",
    "\n",
    "# Menampilkan lima data awal dari dataframe\n",
    "df.head()"
   ]
  },
  {
   "cell_type": "markdown",
   "metadata": {
    "id": "ECTwKiELYL2p"
   },
   "source": [
    "*3. Membuat dummy dataframe yang berisi time series data*"
   ]
  },
  {
   "cell_type": "code",
   "execution_count": 11,
   "metadata": {
    "colab": {
     "base_uri": "https://localhost:8080/",
     "height": 206
    },
    "id": "s_lzvbj-YORC",
    "outputId": "72e159c6-70d1-4dba-8631-572bea174e1e"
   },
   "outputs": [
    {
     "data": {
      "text/html": [
       "<div>\n",
       "<style scoped>\n",
       "    .dataframe tbody tr th:only-of-type {\n",
       "        vertical-align: middle;\n",
       "    }\n",
       "\n",
       "    .dataframe tbody tr th {\n",
       "        vertical-align: top;\n",
       "    }\n",
       "\n",
       "    .dataframe thead th {\n",
       "        text-align: right;\n",
       "    }\n",
       "</style>\n",
       "<table border=\"1\" class=\"dataframe\">\n",
       "  <thead>\n",
       "    <tr style=\"text-align: right;\">\n",
       "      <th></th>\n",
       "      <th>A</th>\n",
       "      <th>B</th>\n",
       "      <th>C</th>\n",
       "      <th>D</th>\n",
       "    </tr>\n",
       "  </thead>\n",
       "  <tbody>\n",
       "    <tr>\n",
       "      <th>2000-01-03</th>\n",
       "      <td>-0.736360</td>\n",
       "      <td>-0.456435</td>\n",
       "      <td>0.554260</td>\n",
       "      <td>-0.232226</td>\n",
       "    </tr>\n",
       "    <tr>\n",
       "      <th>2000-01-04</th>\n",
       "      <td>1.648071</td>\n",
       "      <td>0.278885</td>\n",
       "      <td>-0.636215</td>\n",
       "      <td>1.196401</td>\n",
       "    </tr>\n",
       "    <tr>\n",
       "      <th>2000-01-05</th>\n",
       "      <td>0.643444</td>\n",
       "      <td>0.964064</td>\n",
       "      <td>-1.249190</td>\n",
       "      <td>-1.078904</td>\n",
       "    </tr>\n",
       "    <tr>\n",
       "      <th>2000-01-06</th>\n",
       "      <td>0.916769</td>\n",
       "      <td>0.097315</td>\n",
       "      <td>-1.446029</td>\n",
       "      <td>-0.915920</td>\n",
       "    </tr>\n",
       "    <tr>\n",
       "      <th>2000-01-07</th>\n",
       "      <td>0.619339</td>\n",
       "      <td>-0.118122</td>\n",
       "      <td>0.049548</td>\n",
       "      <td>-0.434976</td>\n",
       "    </tr>\n",
       "  </tbody>\n",
       "</table>\n",
       "</div>"
      ],
      "text/plain": [
       "                   A         B         C         D\n",
       "2000-01-03 -0.736360 -0.456435  0.554260 -0.232226\n",
       "2000-01-04  1.648071  0.278885 -0.636215  1.196401\n",
       "2000-01-05  0.643444  0.964064 -1.249190 -1.078904\n",
       "2000-01-06  0.916769  0.097315 -1.446029 -0.915920\n",
       "2000-01-07  0.619339 -0.118122  0.049548 -0.434976"
      ]
     },
     "execution_count": 11,
     "metadata": {},
     "output_type": "execute_result"
    }
   ],
   "source": [
    "# Membuat indeks dengan deret waktu menggunakan pd.date_range\n",
    "date_index = pd.date_range(start='2000-01-03', periods=5, freq='D')\n",
    "\n",
    "# Membuat dataframe dengan nilai acak\n",
    "df = pd.DataFrame(np.random.randn(5, 4), index=date_index, columns=['A', 'B', 'C', 'D'])\n",
    "\n",
    "# Menampilkan lima data awal dari dataframe\n",
    "df.head()"
   ]
  },
  {
   "cell_type": "markdown",
   "metadata": {
    "id": "z_yxGn-WYP67"
   },
   "source": [
    "*4. Membuat dummy dataframe dengan beberapa missing value yang ditempatkan secara acak*"
   ]
  },
  {
   "cell_type": "code",
   "execution_count": 12,
   "metadata": {
    "colab": {
     "base_uri": "https://localhost:8080/",
     "height": 206
    },
    "id": "fOw3WQGcYTQQ",
    "outputId": "151356af-787d-4c94-d0a6-9c84acd5e55f"
   },
   "outputs": [
    {
     "data": {
      "text/html": [
       "<div>\n",
       "<style scoped>\n",
       "    .dataframe tbody tr th:only-of-type {\n",
       "        vertical-align: middle;\n",
       "    }\n",
       "\n",
       "    .dataframe tbody tr th {\n",
       "        vertical-align: top;\n",
       "    }\n",
       "\n",
       "    .dataframe thead th {\n",
       "        text-align: right;\n",
       "    }\n",
       "</style>\n",
       "<table border=\"1\" class=\"dataframe\">\n",
       "  <thead>\n",
       "    <tr style=\"text-align: right;\">\n",
       "      <th></th>\n",
       "      <th>A</th>\n",
       "      <th>B</th>\n",
       "      <th>C</th>\n",
       "      <th>D</th>\n",
       "    </tr>\n",
       "  </thead>\n",
       "  <tbody>\n",
       "    <tr>\n",
       "      <th>WmDnD0VgHq</th>\n",
       "      <td>1.140141</td>\n",
       "      <td>0.743373</td>\n",
       "      <td>0.559723</td>\n",
       "      <td>1.001264</td>\n",
       "    </tr>\n",
       "    <tr>\n",
       "      <th>oK5aIeQDwO</th>\n",
       "      <td>0.600068</td>\n",
       "      <td>NaN</td>\n",
       "      <td>0.997585</td>\n",
       "      <td>NaN</td>\n",
       "    </tr>\n",
       "    <tr>\n",
       "      <th>kRIH8XgQXB</th>\n",
       "      <td>0.816349</td>\n",
       "      <td>-1.550421</td>\n",
       "      <td>2.004505</td>\n",
       "      <td>-2.147276</td>\n",
       "    </tr>\n",
       "    <tr>\n",
       "      <th>xOQltmT4oD</th>\n",
       "      <td>-0.770811</td>\n",
       "      <td>1.407143</td>\n",
       "      <td>0.342782</td>\n",
       "      <td>NaN</td>\n",
       "    </tr>\n",
       "    <tr>\n",
       "      <th>6QBa6ZnCaP</th>\n",
       "      <td>-1.988255</td>\n",
       "      <td>-1.054597</td>\n",
       "      <td>-0.999648</td>\n",
       "      <td>NaN</td>\n",
       "    </tr>\n",
       "  </tbody>\n",
       "</table>\n",
       "</div>"
      ],
      "text/plain": [
       "                   A         B         C         D\n",
       "WmDnD0VgHq  1.140141  0.743373  0.559723  1.001264\n",
       "oK5aIeQDwO  0.600068       NaN  0.997585       NaN\n",
       "kRIH8XgQXB  0.816349 -1.550421  2.004505 -2.147276\n",
       "xOQltmT4oD -0.770811  1.407143  0.342782       NaN\n",
       "6QBa6ZnCaP -1.988255 -1.054597 -0.999648       NaN"
      ]
     },
     "execution_count": 12,
     "metadata": {},
     "output_type": "execute_result"
    }
   ],
   "source": [
    "# Membuat indeks dan kolom untuk dataframe\n",
    "index = ['WmDnD0VgHq', 'oK5aIeQDwO', 'kRIH8XgQXB', 'xOQltmT4oD', '6QBa6ZnCaP']\n",
    "columns = ['A', 'B', 'C', 'D']\n",
    "\n",
    "# Membuat dataframe dengan nilai acak\n",
    "df = pd.DataFrame(np.random.randn(5, 4), index=index, columns=columns)\n",
    "\n",
    "# Menetapkan beberapa nilai sebagai NaN secara acak\n",
    "random_indices = np.random.choice(df.size, replace=False, size=int(df.size * 0.2))\n",
    "df.values.flat[random_indices] = np.nan\n",
    "\n",
    "# Menampilkan lima data awal dari dataframe\n",
    "df.head()"
   ]
  }
 ],
 "metadata": {
  "colab": {
   "provenance": []
  },
  "kernelspec": {
   "display_name": "Python 3 (ipykernel)",
   "language": "python",
   "name": "python3"
  },
  "language_info": {
   "codemirror_mode": {
    "name": "ipython",
    "version": 3
   },
   "file_extension": ".py",
   "mimetype": "text/x-python",
   "name": "python",
   "nbconvert_exporter": "python",
   "pygments_lexer": "ipython3",
   "version": "3.10.7"
  }
 },
 "nbformat": 4,
 "nbformat_minor": 4
}
