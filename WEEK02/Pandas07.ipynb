{
 "cells": [
  {
   "cell_type": "markdown",
   "metadata": {
    "id": "LMQOEhGkAnX_"
   },
   "source": [
    "# **Pandas 07 - Menghapus (drop) Missing Values (NaN) pada Data Frame**"
   ]
  },
  {
   "cell_type": "markdown",
   "metadata": {
    "id": "LMQOEhGkAnX_"
   },
   "source": [
    "### Persiapan Data Frame"
   ]
  },
  {
   "cell_type": "code",
   "execution_count": 3,
   "metadata": {
    "colab": {
     "base_uri": "https://localhost:8080/",
     "height": 241
    },
    "id": "0okQEp5DDyaw",
    "outputId": "14dd8811-6361-4f81-ea0f-7cc93f712200"
   },
   "outputs": [
    {
     "data": {
      "text/html": [
       "<div>\n",
       "<style scoped>\n",
       "    .dataframe tbody tr th:only-of-type {\n",
       "        vertical-align: middle;\n",
       "    }\n",
       "\n",
       "    .dataframe tbody tr th {\n",
       "        vertical-align: top;\n",
       "    }\n",
       "\n",
       "    .dataframe thead th {\n",
       "        text-align: right;\n",
       "    }\n",
       "</style>\n",
       "<table border=\"1\" class=\"dataframe\">\n",
       "  <thead>\n",
       "    <tr style=\"text-align: right;\">\n",
       "      <th></th>\n",
       "      <th>Z</th>\n",
       "      <th>A</th>\n",
       "      <th>B</th>\n",
       "      <th>C</th>\n",
       "      <th>D</th>\n",
       "    </tr>\n",
       "  </thead>\n",
       "  <tbody>\n",
       "    <tr>\n",
       "      <th>0</th>\n",
       "      <td>0.835872</td>\n",
       "      <td>0.110072</td>\n",
       "      <td>0.520764</td>\n",
       "      <td>0.453068</td>\n",
       "      <td>0.064275</td>\n",
       "    </tr>\n",
       "    <tr>\n",
       "      <th>1</th>\n",
       "      <td>0.638001</td>\n",
       "      <td>0.114162</td>\n",
       "      <td>0.191660</td>\n",
       "      <td>0.463222</td>\n",
       "      <td>0.476131</td>\n",
       "    </tr>\n",
       "    <tr>\n",
       "      <th>2</th>\n",
       "      <td>NaN</td>\n",
       "      <td>0.212358</td>\n",
       "      <td>0.944652</td>\n",
       "      <td>0.745409</td>\n",
       "      <td>0.694403</td>\n",
       "    </tr>\n",
       "    <tr>\n",
       "      <th>3</th>\n",
       "      <td>NaN</td>\n",
       "      <td>0.177232</td>\n",
       "      <td>0.218558</td>\n",
       "      <td>0.402353</td>\n",
       "      <td>0.223137</td>\n",
       "    </tr>\n",
       "    <tr>\n",
       "      <th>4</th>\n",
       "      <td>NaN</td>\n",
       "      <td>0.229387</td>\n",
       "      <td>0.403810</td>\n",
       "      <td>0.404815</td>\n",
       "      <td>0.901870</td>\n",
       "    </tr>\n",
       "  </tbody>\n",
       "</table>\n",
       "</div>"
      ],
      "text/plain": [
       "          Z         A         B         C         D\n",
       "0  0.835872  0.110072  0.520764  0.453068  0.064275\n",
       "1  0.638001  0.114162  0.191660  0.463222  0.476131\n",
       "2       NaN  0.212358  0.944652  0.745409  0.694403\n",
       "3       NaN  0.177232  0.218558  0.402353  0.223137\n",
       "4       NaN  0.229387  0.403810  0.404815  0.901870"
      ]
     },
     "execution_count": 3,
     "metadata": {},
     "output_type": "execute_result"
    }
   ],
   "source": [
    "# Mengimpor library pandas untuk manipulasi data frame\n",
    "import pandas as pd\n",
    "import numpy as np\n",
    "\n",
    "# Membuat data frame dengan nilai acak menggunakan library numpy\n",
    "data = {'Z' : np.random.rand(10), 'A': np.random.rand(10), 'B':np.random.rand(10),'C':np.random.rand(10),'D':np.random.rand(10)}\n",
    "df = pd.DataFrame(data)\n",
    "\n",
    "# Mengatur beberapa nilai menjadi NaN (Not a Number) dalam data frame menggunakan indeks dan kolom\n",
    "df.iloc[2:5, 0] = np.nan\n",
    "df.iloc[7, 2] = np.nan\n",
    "\n",
    "# Menampilkan lima data awal dari data frame\n",
    "df.head()"
   ]
  },
  {
   "cell_type": "code",
   "execution_count": 4,
   "metadata": {
    "colab": {
     "base_uri": "https://localhost:8080/",
     "height": 206
    },
    "id": "GnTvvnOqEVcS",
    "outputId": "d2c78af0-3cbb-43e0-de1a-3347ba4711b1"
   },
   "outputs": [
    {
     "data": {
      "text/html": [
       "<div>\n",
       "<style scoped>\n",
       "    .dataframe tbody tr th:only-of-type {\n",
       "        vertical-align: middle;\n",
       "    }\n",
       "\n",
       "    .dataframe tbody tr th {\n",
       "        vertical-align: top;\n",
       "    }\n",
       "\n",
       "    .dataframe thead th {\n",
       "        text-align: right;\n",
       "    }\n",
       "</style>\n",
       "<table border=\"1\" class=\"dataframe\">\n",
       "  <thead>\n",
       "    <tr style=\"text-align: right;\">\n",
       "      <th></th>\n",
       "      <th>Z</th>\n",
       "      <th>A</th>\n",
       "      <th>B</th>\n",
       "      <th>C</th>\n",
       "      <th>D</th>\n",
       "    </tr>\n",
       "  </thead>\n",
       "  <tbody>\n",
       "    <tr>\n",
       "      <th>0</th>\n",
       "      <td>0.835872</td>\n",
       "      <td>0.110072</td>\n",
       "      <td>0.520764</td>\n",
       "      <td>0.453068</td>\n",
       "      <td>0.064275</td>\n",
       "    </tr>\n",
       "    <tr>\n",
       "      <th>1</th>\n",
       "      <td>0.638001</td>\n",
       "      <td>0.114162</td>\n",
       "      <td>0.191660</td>\n",
       "      <td>0.463222</td>\n",
       "      <td>0.476131</td>\n",
       "    </tr>\n",
       "    <tr>\n",
       "      <th>2</th>\n",
       "      <td>NaN</td>\n",
       "      <td>0.212358</td>\n",
       "      <td>0.944652</td>\n",
       "      <td>0.745409</td>\n",
       "      <td>0.694403</td>\n",
       "    </tr>\n",
       "    <tr>\n",
       "      <th>3</th>\n",
       "      <td>NaN</td>\n",
       "      <td>0.177232</td>\n",
       "      <td>0.218558</td>\n",
       "      <td>0.402353</td>\n",
       "      <td>0.223137</td>\n",
       "    </tr>\n",
       "    <tr>\n",
       "      <th>4</th>\n",
       "      <td>NaN</td>\n",
       "      <td>0.229387</td>\n",
       "      <td>0.403810</td>\n",
       "      <td>0.404815</td>\n",
       "      <td>0.901870</td>\n",
       "    </tr>\n",
       "  </tbody>\n",
       "</table>\n",
       "</div>"
      ],
      "text/plain": [
       "          Z         A         B         C         D\n",
       "0  0.835872  0.110072  0.520764  0.453068  0.064275\n",
       "1  0.638001  0.114162  0.191660  0.463222  0.476131\n",
       "2       NaN  0.212358  0.944652  0.745409  0.694403\n",
       "3       NaN  0.177232  0.218558  0.402353  0.223137\n",
       "4       NaN  0.229387  0.403810  0.404815  0.901870"
      ]
     },
     "execution_count": 4,
     "metadata": {},
     "output_type": "execute_result"
    }
   ],
   "source": [
    "# Menggunakan metode rename untuk mengganti nama indeks dari 'index' menjadi 'Z' dalam data frame\n",
    "df = df.rename(columns={'index':'Z'})\n",
    "\n",
    "# Menampilkan lima data awal dari data frame setelah perubahan nama indeks\n",
    "df.head()"
   ]
  },
  {
   "cell_type": "code",
   "execution_count": 7,
   "metadata": {
    "id": "5epmse0eEk9o"
   },
   "outputs": [],
   "source": [
    "# Membuat salinan mendalam (deep copy) dari data frame df dan menyimpannya dalam variabel df_backup\n",
    "df_backup = df.copy(deep=True)"
   ]
  },
  {
   "cell_type": "code",
   "execution_count": 8,
   "metadata": {
    "colab": {
     "base_uri": "https://localhost:8080/",
     "height": 206
    },
    "id": "Y3XW1RDxEu0O",
    "outputId": "3d4475a9-1e18-4d18-af0c-07f7bcf3e5ed"
   },
   "outputs": [
    {
     "data": {
      "text/html": [
       "<div>\n",
       "<style scoped>\n",
       "    .dataframe tbody tr th:only-of-type {\n",
       "        vertical-align: middle;\n",
       "    }\n",
       "\n",
       "    .dataframe tbody tr th {\n",
       "        vertical-align: top;\n",
       "    }\n",
       "\n",
       "    .dataframe thead th {\n",
       "        text-align: right;\n",
       "    }\n",
       "</style>\n",
       "<table border=\"1\" class=\"dataframe\">\n",
       "  <thead>\n",
       "    <tr style=\"text-align: right;\">\n",
       "      <th></th>\n",
       "      <th>A</th>\n",
       "      <th>C</th>\n",
       "      <th>D</th>\n",
       "    </tr>\n",
       "  </thead>\n",
       "  <tbody>\n",
       "    <tr>\n",
       "      <th>0</th>\n",
       "      <td>0.110072</td>\n",
       "      <td>0.453068</td>\n",
       "      <td>0.064275</td>\n",
       "    </tr>\n",
       "    <tr>\n",
       "      <th>1</th>\n",
       "      <td>0.114162</td>\n",
       "      <td>0.463222</td>\n",
       "      <td>0.476131</td>\n",
       "    </tr>\n",
       "    <tr>\n",
       "      <th>2</th>\n",
       "      <td>0.212358</td>\n",
       "      <td>0.745409</td>\n",
       "      <td>0.694403</td>\n",
       "    </tr>\n",
       "    <tr>\n",
       "      <th>3</th>\n",
       "      <td>0.177232</td>\n",
       "      <td>0.402353</td>\n",
       "      <td>0.223137</td>\n",
       "    </tr>\n",
       "    <tr>\n",
       "      <th>4</th>\n",
       "      <td>0.229387</td>\n",
       "      <td>0.404815</td>\n",
       "      <td>0.901870</td>\n",
       "    </tr>\n",
       "  </tbody>\n",
       "</table>\n",
       "</div>"
      ],
      "text/plain": [
       "          A         C         D\n",
       "0  0.110072  0.453068  0.064275\n",
       "1  0.114162  0.463222  0.476131\n",
       "2  0.212358  0.745409  0.694403\n",
       "3  0.177232  0.402353  0.223137\n",
       "4  0.229387  0.404815  0.901870"
      ]
     },
     "execution_count": 8,
     "metadata": {},
     "output_type": "execute_result"
    }
   ],
   "source": [
    "# Menggunakan metode dropna untuk menghapus kolom-kolom yang mengandung nilai NaN (Not a Number) dari data frame\n",
    "# Parameter axis='columns' digunakan untuk menghapus kolom, sedangkan axis='rows' dapat digunakan untuk menghapus baris\n",
    "df = df.dropna(axis='columns')\n",
    "\n",
    "# Menampilkan lima data awal dari data frame setelah penghapusan kolom dengan nilai NaN\n",
    "df.head()"
   ]
  },
  {
   "cell_type": "code",
   "execution_count": 9,
   "metadata": {
    "colab": {
     "base_uri": "https://localhost:8080/",
     "height": 206
    },
    "id": "B_dXbIGEE2O8",
    "outputId": "4380caa7-6976-4850-e022-2ffae83be3c1"
   },
   "outputs": [
    {
     "data": {
      "text/html": [
       "<div>\n",
       "<style scoped>\n",
       "    .dataframe tbody tr th:only-of-type {\n",
       "        vertical-align: middle;\n",
       "    }\n",
       "\n",
       "    .dataframe tbody tr th {\n",
       "        vertical-align: top;\n",
       "    }\n",
       "\n",
       "    .dataframe thead th {\n",
       "        text-align: right;\n",
       "    }\n",
       "</style>\n",
       "<table border=\"1\" class=\"dataframe\">\n",
       "  <thead>\n",
       "    <tr style=\"text-align: right;\">\n",
       "      <th></th>\n",
       "      <th>A</th>\n",
       "      <th>C</th>\n",
       "      <th>D</th>\n",
       "    </tr>\n",
       "  </thead>\n",
       "  <tbody>\n",
       "    <tr>\n",
       "      <th>0</th>\n",
       "      <td>0.110072</td>\n",
       "      <td>0.453068</td>\n",
       "      <td>0.064275</td>\n",
       "    </tr>\n",
       "    <tr>\n",
       "      <th>1</th>\n",
       "      <td>0.114162</td>\n",
       "      <td>0.463222</td>\n",
       "      <td>0.476131</td>\n",
       "    </tr>\n",
       "    <tr>\n",
       "      <th>2</th>\n",
       "      <td>0.212358</td>\n",
       "      <td>0.745409</td>\n",
       "      <td>0.694403</td>\n",
       "    </tr>\n",
       "    <tr>\n",
       "      <th>3</th>\n",
       "      <td>0.177232</td>\n",
       "      <td>0.402353</td>\n",
       "      <td>0.223137</td>\n",
       "    </tr>\n",
       "    <tr>\n",
       "      <th>4</th>\n",
       "      <td>0.229387</td>\n",
       "      <td>0.404815</td>\n",
       "      <td>0.901870</td>\n",
       "    </tr>\n",
       "  </tbody>\n",
       "</table>\n",
       "</div>"
      ],
      "text/plain": [
       "          A         C         D\n",
       "0  0.110072  0.453068  0.064275\n",
       "1  0.114162  0.463222  0.476131\n",
       "2  0.212358  0.745409  0.694403\n",
       "3  0.177232  0.402353  0.223137\n",
       "4  0.229387  0.404815  0.901870"
      ]
     },
     "execution_count": 9,
     "metadata": {},
     "output_type": "execute_result"
    }
   ],
   "source": [
    "# Membuat salinan mendalam (deep copy) dari data frame df_backup dan menyimpannya dalam variabel df\n",
    "df = df_backup.copy(deep=True)\n",
    "\n",
    "# Menggunakan metode dropna untuk menghapus baris-baris yang mengandung nilai NaN (Not a Number) dari data frame\n",
    "# Parameter axis='rows' digunakan untuk menghapus baris, sedangkan axis='columns' dapat digunakan untuk menghapus kolom\n",
    "df = df.dropna(axis='rows')\n",
    "\n",
    "# Menampilkan lima data awal dari data frame setelah penghapusan baris dengan nilai NaN\n",
    "df.head()"
   ]
  },
  {
   "cell_type": "code",
   "execution_count": 15,
   "metadata": {
    "colab": {
     "base_uri": "https://localhost:8080/"
    },
    "id": "fnKlOUhlFE4Y",
    "outputId": "dee3cef8-cf14-4af0-f62f-e70811bc7ce4"
   },
   "outputs": [
    {
     "data": {
      "text/plain": [
       "Z    30.0\n",
       "A     0.0\n",
       "B    10.0\n",
       "C     0.0\n",
       "D     0.0\n",
       "dtype: float64"
      ]
     },
     "execution_count": 15,
     "metadata": {},
     "output_type": "execute_result"
    }
   ],
   "source": [
    "# Membuat salinan mendalam (deep copy) dari data frame df_backup dan menyimpannya dalam variabel df\n",
    "df = df_backup.copy(deep=True)\n",
    "\n",
    "# Menggunakan metode isna() untuk mendeteksi nilai NaN (Not a Number) dalam data frame\n",
    "# Metode mean() digunakan untuk menghitung proporsi nilai NaN pada setiap kolom\n",
    "# Mengalikan dengan 100 untuk mendapatkan persentase nilai NaN dalam setiap kolom\n",
    "df.isna().mean() * 100"
   ]
  },
  {
   "cell_type": "code",
   "execution_count": 10,
   "metadata": {
    "colab": {
     "base_uri": "https://localhost:8080/",
     "height": 206
    },
    "id": "c0Gg545kFcLH",
    "outputId": "cb602482-eb03-42be-cb63-3798847408e1"
   },
   "outputs": [
    {
     "data": {
      "text/html": [
       "<div>\n",
       "<style scoped>\n",
       "    .dataframe tbody tr th:only-of-type {\n",
       "        vertical-align: middle;\n",
       "    }\n",
       "\n",
       "    .dataframe tbody tr th {\n",
       "        vertical-align: top;\n",
       "    }\n",
       "\n",
       "    .dataframe thead th {\n",
       "        text-align: right;\n",
       "    }\n",
       "</style>\n",
       "<table border=\"1\" class=\"dataframe\">\n",
       "  <thead>\n",
       "    <tr style=\"text-align: right;\">\n",
       "      <th></th>\n",
       "      <th>A</th>\n",
       "      <th>C</th>\n",
       "      <th>D</th>\n",
       "    </tr>\n",
       "  </thead>\n",
       "  <tbody>\n",
       "    <tr>\n",
       "      <th>0</th>\n",
       "      <td>0.110072</td>\n",
       "      <td>0.453068</td>\n",
       "      <td>0.064275</td>\n",
       "    </tr>\n",
       "    <tr>\n",
       "      <th>1</th>\n",
       "      <td>0.114162</td>\n",
       "      <td>0.463222</td>\n",
       "      <td>0.476131</td>\n",
       "    </tr>\n",
       "    <tr>\n",
       "      <th>2</th>\n",
       "      <td>0.212358</td>\n",
       "      <td>0.745409</td>\n",
       "      <td>0.694403</td>\n",
       "    </tr>\n",
       "    <tr>\n",
       "      <th>3</th>\n",
       "      <td>0.177232</td>\n",
       "      <td>0.402353</td>\n",
       "      <td>0.223137</td>\n",
       "    </tr>\n",
       "    <tr>\n",
       "      <th>4</th>\n",
       "      <td>0.229387</td>\n",
       "      <td>0.404815</td>\n",
       "      <td>0.901870</td>\n",
       "    </tr>\n",
       "  </tbody>\n",
       "</table>\n",
       "</div>"
      ],
      "text/plain": [
       "          A         C         D\n",
       "0  0.110072  0.453068  0.064275\n",
       "1  0.114162  0.463222  0.476131\n",
       "2  0.212358  0.745409  0.694403\n",
       "3  0.177232  0.402353  0.223137\n",
       "4  0.229387  0.404815  0.901870"
      ]
     },
     "execution_count": 10,
     "metadata": {},
     "output_type": "execute_result"
    }
   ],
   "source": [
    "# Menetapkan nilai ambang batas (threshold) sebagai 90% dari jumlah baris dalam data frame\n",
    "threshold = len(df) * 0.9\n",
    "\n",
    "# Menggunakan metode dropna untuk menghapus kolom-kolom yang memiliki persentase nilai NaN melebihi threshold\n",
    "# Parameter thresh digunakan untuk menetapkan ambang batas persentase nilai NaN yang diizinkan dalam kolom\n",
    "# Parameter axis='columns' digunakan untuk menghapus kolom, sedangkan axis='rows' dapat digunakan untuk menghapus baris\n",
    "df = df.dropna(thresh=threshold, axis='columns')\n",
    "\n",
    "# Menampilkan lima data awal dari data frame setelah penghapusan kolom dengan nilai NaN\n",
    "df.head()"
   ]
  }
 ],
 "metadata": {
  "colab": {
   "provenance": []
  },
  "kernelspec": {
   "display_name": "Python 3 (ipykernel)",
   "language": "python",
   "name": "python3"
  },
  "language_info": {
   "codemirror_mode": {
    "name": "ipython",
    "version": 3
   },
   "file_extension": ".py",
   "mimetype": "text/x-python",
   "name": "python",
   "nbconvert_exporter": "python",
   "pygments_lexer": "ipython3",
   "version": "3.10.7"
  }
 },
 "nbformat": 4,
 "nbformat_minor": 4
}
